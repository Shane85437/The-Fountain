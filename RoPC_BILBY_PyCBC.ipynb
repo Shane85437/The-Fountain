{
  "cells": [
    {
      "cell_type": "markdown",
      "metadata": {
        "id": "view-in-github",
        "colab_type": "text"
      },
      "source": [
        "<a href=\"https://colab.research.google.com/github/Shane85437/The-Fountain/blob/main/RoPC_BILBY_PyCBC.ipynb\" target=\"_parent\"><img src=\"https://colab.research.google.com/assets/colab-badge.svg\" alt=\"Open In Colab\"/></a>"
      ]
    },
    {
      "cell_type": "code",
      "source": [
        "# Cell 1: Install & Imports\n",
        "!pip install pycbc --quiet\n",
        "import numpy as np\n",
        "from pycbc import waveform\n",
        "from pycbc import fft\n",
        "from pycbc import filter\n",
        "from pycbc.psd import aLIGOZeroDetHighPower\n",
        "from pycbc.filter import matched_filter\n",
        "from pycbc.types import TimeSeries\n",
        "import matplotlib.pyplot as plt\n",
        "import warnings\n",
        "warnings.filterwarnings(\"ignore\", \"Wswiglal-redir-stdio\")\n",
        "import lal"
      ],
      "metadata": {
        "colab": {
          "base_uri": "https://localhost:8080/"
        },
        "id": "lECpxoT1aFkJ",
        "outputId": "60c90d73-8146-49c9-e0ff-3c194414762e"
      },
      "execution_count": null,
      "outputs": [
        {
          "output_type": "stream",
          "name": "stderr",
          "text": [
            "/usr/local/lib/python3.12/dist-packages/pycbc/types/array.py:36: UserWarning: Wswiglal-redir-stdio:\n",
            "\n",
            "SWIGLAL standard output/error redirection is enabled in IPython.\n",
            "This may lead to performance penalties. To disable locally, use:\n",
            "\n",
            "with lal.no_swig_redirect_standard_output_error():\n",
            "    ...\n",
            "\n",
            "To disable globally, use:\n",
            "\n",
            "lal.swig_redirect_standard_output_error(False)\n",
            "\n",
            "Note however that this will likely lead to error messages from\n",
            "LAL functions being either misdirected or lost when called from\n",
            "Jupyter notebooks.\n",
            "\n",
            "To suppress this warning, use:\n",
            "\n",
            "import warnings\n",
            "warnings.filterwarnings(\"ignore\", \"Wswiglal-redir-stdio\")\n",
            "import lal\n",
            "\n",
            "  import lal as _lal\n"
          ]
        }
      ]
    },
    {
      "cell_type": "code",
      "source": [
        "# Cell 2: Generate GR waveform and compute Fisher sigma_chi\n",
        "m1, m2 = 36.0, 29.0\n",
        "f_lower = 20.0\n",
        "delta_t = 1.0 / 2048\n",
        "duration = 8.0\n",
        "approx = 'IMRPhenomPv2'\n",
        "hp, hc = waveform.get_fd_waveform(approximant=approx, mass1=m1, mass2=m2, delta_f=1.0/duration, f_lower=f_lower)\n",
        "def compute_sigma_chi(fd_hp, psd, S_func, f_lower):\n",
        "    freqs = fd_hp.sample_frequencies\n",
        "    pos = freqs >= f_lower\n",
        "    hvals = fd_hp.data[pos]\n",
        "    Sn = psd.data[pos]\n",
        "    Svals = S_func(freqs[pos])\n",
        "    df = freqs[1] - freqs[0]\n",
        "    integrand = 4.0 * (np.abs(hvals)**2) * (np.abs(Svals)**2) / (Sn + 1e-300)\n",
        "    F = np.sum(integrand) * df\n",
        "    sigma_chi = 1.0 / np.sqrt(F) if F > 0 else np.inf\n",
        "    return sigma_chi, F\n",
        "def S_of_f(freqs, scale): return scale * (freqs**(7.0/3.0))\n",
        "n = len(hp)\n",
        "delta_f = hp.delta_f\n",
        "psd = aLIGOZeroDetHighPower(n, delta_f, 20.0)\n",
        "scale_guess = 1e-30\n",
        "sigma_chi, F = compute_sigma_chi(hp, psd, lambda f: S_of_f(f, scale_guess), f_lower=20.0)\n",
        "print(f\"scale={scale_guess:.3e}  ->  sigma_chi = {sigma_chi:.3e}  (Fisher F={F:.3e})\")"
      ],
      "metadata": {
        "colab": {
          "base_uri": "https://localhost:8080/"
        },
        "id": "Ez5g8jL3aHA9",
        "outputId": "01abd0b1-816a-4757-8d7f-9e3fa25dce74"
      },
      "execution_count": null,
      "outputs": [
        {
          "output_type": "stream",
          "name": "stdout",
          "text": [
            "scale=1.000e-30  ->  sigma_chi = 1.976e+20  (Fisher F=2.561e-41)\n"
          ]
        }
      ]
    },
    {
      "cell_type": "code",
      "source": [
        "# --- Fisher Sensitivity Sweep for χ ---\n",
        "import numpy as np\n",
        "import matplotlib.pyplot as plt\n",
        "from pycbc.psd import aLIGOZeroDetHighPower\n",
        "\n",
        "def compute_sigma_chi(fd_hp, psd, S_func, f_lower):\n",
        "    freqs = fd_hp.sample_frequencies\n",
        "    pos = freqs >= f_lower\n",
        "    hvals = fd_hp.data[pos]\n",
        "    Sn = psd.data[pos]\n",
        "    Svals = S_func(freqs[pos])\n",
        "    df = freqs[1] - freqs[0]\n",
        "    integrand = 4.0 * (np.abs(hvals)**2) * (np.abs(Svals)**2) / (Sn + 1e-300)\n",
        "    F = np.sum(integrand) * df\n",
        "    sigma_chi = 1.0 / np.sqrt(F) if F > 0 else np.inf\n",
        "    return sigma_chi\n",
        "\n",
        "# Define S(f) ~ scale * f^(7/3)\n",
        "def S_of_f(freqs, scale):\n",
        "    return scale * (freqs**(7.0/3.0))\n",
        "\n",
        "# PSD must match waveform (use from Cell 2)\n",
        "n = len(hp)\n",
        "delta_f = hp.delta_f\n",
        "psd = aLIGOZeroDetHighPower(n, delta_f, 20.0)\n",
        "\n",
        "# Sweep scale values\n",
        "scales = np.logspace(-40, -5, 36)\n",
        "sigma_chis = []\n",
        "\n",
        "for s in scales:\n",
        "    sigma_chi = compute_sigma_chi(hp, psd, lambda f: S_of_f(f, s), f_lower=20.0)\n",
        "    sigma_chis.append(sigma_chi)\n",
        "    print(f\"scale={s:.1e} -> sigma_chi={sigma_chi:.3e}\")\n",
        "\n",
        "# Plot sigma_chi vs scale\n",
        "plt.loglog(scales, sigma_chis, 'o-', label=r'$\\sigma_\\chi(\\mathrm{scale})$')\n",
        "plt.axhline(1e-5, color='r', ls='--', label=r'Target $\\sigma_\\chi = 10^{-5}$')\n",
        "plt.xlabel(\"Scale parameter\")\n",
        "plt.ylabel(r\"Fisher 1$\\sigma$ sensitivity $\\sigma_\\chi$\")\n",
        "plt.title(\"GW150914-like Fisher sensitivity to χ\")\n",
        "plt.legend()\n",
        "plt.grid(True, which=\"both\", ls=\"--\", alpha=0.4)\n",
        "plt.show()\n",
        "\n",
        "# Find approximate scale for sigma_chi ~ 1e-5 with corrected check\n",
        "sigma_target = 1e-5\n",
        "log_scales = np.log10(scales)\n",
        "log_sigmas = np.log10([s for s in sigma_chis if s < np.inf and s > 0])  # Exclude inf/zero\n",
        "if len(log_sigmas) > 0:  # Check if there are valid data points\n",
        "    log_scales_valid = np.log10([scales[i] for i in range(len(sigma_chis)) if sigma_chis[i] < np.inf and sigma_chis[i] > 0])\n",
        "    coeffs = np.polyfit(log_scales_valid, log_sigmas, 1)\n",
        "    a, b = coeffs\n",
        "    scale_target = 10**((np.log10(sigma_target) - b) / a)\n",
        "    print(f\"Approx. scale for σ(χ)≈1e-5 → scale ≈ {scale_target:.3e}\")\n",
        "else:\n",
        "    print(\"No valid sigma_chi values for polyfit.\")"
      ],
      "metadata": {
        "colab": {
          "base_uri": "https://localhost:8080/",
          "height": 920
        },
        "id": "n4GlBN_ubAj4",
        "outputId": "c1c7b399-f492-456c-f866-2ff877705dd1"
      },
      "execution_count": null,
      "outputs": [
        {
          "output_type": "stream",
          "name": "stdout",
          "text": [
            "scale=1.0e-40 -> sigma_chi=1.976e+30\n",
            "scale=1.0e-39 -> sigma_chi=1.976e+29\n",
            "scale=1.0e-38 -> sigma_chi=1.976e+28\n",
            "scale=1.0e-37 -> sigma_chi=1.976e+27\n",
            "scale=1.0e-36 -> sigma_chi=1.976e+26\n",
            "scale=1.0e-35 -> sigma_chi=1.976e+25\n",
            "scale=1.0e-34 -> sigma_chi=1.976e+24\n",
            "scale=1.0e-33 -> sigma_chi=1.976e+23\n",
            "scale=1.0e-32 -> sigma_chi=1.976e+22\n",
            "scale=1.0e-31 -> sigma_chi=1.976e+21\n",
            "scale=1.0e-30 -> sigma_chi=1.976e+20\n",
            "scale=1.0e-29 -> sigma_chi=1.976e+19\n",
            "scale=1.0e-28 -> sigma_chi=1.976e+18\n",
            "scale=1.0e-27 -> sigma_chi=1.976e+17\n",
            "scale=1.0e-26 -> sigma_chi=1.976e+16\n",
            "scale=1.0e-25 -> sigma_chi=1.976e+15\n",
            "scale=1.0e-24 -> sigma_chi=1.976e+14\n",
            "scale=1.0e-23 -> sigma_chi=1.976e+13\n",
            "scale=1.0e-22 -> sigma_chi=1.976e+12\n",
            "scale=1.0e-21 -> sigma_chi=1.976e+11\n",
            "scale=1.0e-20 -> sigma_chi=1.976e+10\n",
            "scale=1.0e-19 -> sigma_chi=1.976e+09\n",
            "scale=1.0e-18 -> sigma_chi=1.976e+08\n",
            "scale=1.0e-17 -> sigma_chi=1.976e+07\n",
            "scale=1.0e-16 -> sigma_chi=1.976e+06\n",
            "scale=1.0e-15 -> sigma_chi=1.976e+05\n",
            "scale=1.0e-14 -> sigma_chi=1.976e+04\n",
            "scale=1.0e-13 -> sigma_chi=1.976e+03\n",
            "scale=1.0e-12 -> sigma_chi=1.976e+02\n",
            "scale=1.0e-11 -> sigma_chi=1.976e+01\n",
            "scale=1.0e-10 -> sigma_chi=1.976e+00\n",
            "scale=1.0e-09 -> sigma_chi=1.976e-01\n",
            "scale=1.0e-08 -> sigma_chi=1.976e-02\n",
            "scale=1.0e-07 -> sigma_chi=1.976e-03\n",
            "scale=1.0e-06 -> sigma_chi=1.976e-04\n",
            "scale=1.0e-05 -> sigma_chi=1.976e-05\n"
          ]
        },
        {
          "output_type": "display_data",
          "data": {
            "text/plain": [
              "<Figure size 640x480 with 1 Axes>"
            ],
            "image/png": "[encoded data removed]"
          },
          "metadata": {}
        },
        {
          "output_type": "stream",
          "name": "stdout",
          "text": [
            "Approx. scale for σ(χ)≈1e-5 → scale ≈ 1.976e-05\n"
          ]
        }
      ]
    },
    {
      "cell_type": "code",
      "source": [
        "# Snippet A: compute J and scale_target\n",
        "# Requires: numpy, pycbc or bilby for frequency-domain waveform, and a PSD function.\n",
        "\n",
        "import numpy as np\n",
        "from pycbc.waveform import get_fd_waveform   # or use bilby.gw WaveformGenerator\n",
        "from pycbc.psd import aLIGOZeroDetHighPower\n",
        "\n",
        "# 1) waveform: example GW150914-like (IMRPhenomPv2)\n",
        "hp, hc = get_fd_waveform(approximant='IMRPhenomPv2',\n",
        "                         mass1=36.0, mass2=29.0,\n",
        "                         delta_f=1.0/8.0, f_lower=20.0)\n",
        "\n",
        "freqs = hp.sample_frequencies  # numpy array\n",
        "df = freqs[1] - freqs[0]\n",
        "\n",
        "# 2) PSD matched to waveform length\n",
        "psd = aLIGOZeroDetHighPower(len(freqs), df, 20.0)\n",
        "Sn = psd.data  # same grid\n",
        "\n",
        "# 3) compute integrand J = 4 * int |h(f)|^2 f^{14/3} / Sn df\n",
        "pos = (freqs >= 20.0) & (freqs <= freqs.max())\n",
        "hvals = hp.data[pos]\n",
        "Sn_pos = Sn[pos]\n",
        "fpos = freqs[pos]\n",
        "\n",
        "J = 4.0 * np.sum( (np.abs(hvals)**2) * (fpos**(14.0/3.0)) / (Sn_pos + 1e-300) ) * df\n",
        "print(\"J =\", J)\n",
        "\n",
        "# 4) desired sigma target\n",
        "sigma_target = 1e-5\n",
        "scale_target = 1.0 / (sigma_target * np.sqrt(J))\n",
        "print(\"scale_target for sigma_chi=1e-5 ->\", scale_target)"
      ],
      "metadata": {
        "colab": {
          "base_uri": "https://localhost:8080/"
        },
        "id": "gQuoCf34dRYN",
        "outputId": "4bfedbbb-bd4b-423c-8d5b-5d40f993c376"
      },
      "execution_count": null,
      "outputs": [
        {
          "output_type": "stream",
          "name": "stdout",
          "text": [
            "J = 2.5610201643522503e+19\n",
            "scale_target for sigma_chi=1e-5 -> 1.9760298511949338e-05\n"
          ]
        }
      ]
    },
    {
      "cell_type": "code",
      "source": [
        "# Snippet B: mismatch vs chi (quick sanity check)\n",
        "# Requires: pycbc.filter.matched_filter, pycbc.psd.aLIGOZeroDetHighPower\n",
        "\n",
        "from pycbc.filter import matched_filter\n",
        "from pycbc.psd import aLIGOZeroDetHighPower\n",
        "from pycbc.types import FrequencySeries\n",
        "\n",
        "def apply_chi_phase(fd_hp, chi, scale=1e-5):\n",
        "    freqs = fd_hp.sample_frequencies\n",
        "    pos = freqs > 0\n",
        "    delta_phi = np.zeros_like(freqs, dtype=complex)\n",
        "    delta_phi[pos] = chi * (freqs[pos]**(7.0/3.0)) * scale\n",
        "    fd_new = FrequencySeries(fd_hp.data * np.exp(1j * delta_phi), delta_f=fd_hp.delta_f, epoch=fd_hp.epoch)\n",
        "    return fd_new\n",
        "\n",
        "hp, hc = get_fd_waveform(approximant='IMRPhenomPv2', mass1=36, mass2=29, delta_f=1.0/8.0, f_lower=20)\n",
        "psd = aLIGOZeroDetHighPower(len(hp.sample_frequencies), hp.delta_f, 20.0)\n",
        "\n",
        "chi_values = np.logspace(-7, -3, 5)\n",
        "mismatches = []\n",
        "for chi in chi_values:\n",
        "    hp_chi = apply_chi_phase(hp, chi, scale=1e-5)\n",
        "    # compute matched filter SNR peak (very approximate)\n",
        "    from pycbc.filter import match\n",
        "    ov = match(hp_chi, hp, psd=psd, low_frequency_cutoff=20.0)\n",
        "    overlap = ov[0]  # match returns (match, ip)\n",
        "    mismatch = 1.0 - overlap\n",
        "    mismatches.append(mismatch)\n",
        "    print(f\"chi={chi:.1e}, overlap={overlap:.10f}, mismatch={mismatch:.3e}\")"
      ],
      "metadata": {
        "colab": {
          "base_uri": "https://localhost:8080/"
        },
        "id": "8oSvUyhrdUNh",
        "outputId": "2b67a6d5-3b72-4afd-842e-c2dcbc84889e"
      },
      "execution_count": null,
      "outputs": [
        {
          "output_type": "stream",
          "name": "stdout",
          "text": [
            "chi=1.0e-07, overlap=1.0000000000, mismatch=5.884e-15\n",
            "chi=1.0e-06, overlap=1.0000000000, mismatch=6.085e-13\n",
            "chi=1.0e-05, overlap=0.9999999999, mismatch=6.085e-11\n",
            "chi=1.0e-04, overlap=0.9999999939, mismatch=6.085e-09\n",
            "chi=1.0e-03, overlap=0.9999993915, mismatch=6.085e-07\n"
          ]
        }
      ]
    },
    {
      "cell_type": "code",
      "source": [
        "# Cell 1: Install & Imports\n",
        "\n",
        "!pip install bilby[gw] dynesty\n",
        "!pip install -U cryptography\n",
        "\n",
        "import bilby\n",
        "from bilby.gw import source, detector\n",
        "from bilby.core.prior import Uniform, Sine, Cosine, PowerLaw, DeltaFunction\n",
        "from bilby.gw.waveform_generator import WaveformGenerator\n",
        "from bilby.gw.likelihood import GravitationalWaveTransient\n",
        "\n",
        "import numpy as np\n",
        "import matplotlib.pyplot as plt\n",
        "import os\n",
        "\n",
        "print(\"✅ Bilby and dependencies installed and imported.\")"
      ],
      "metadata": {
        "colab": {
          "base_uri": "https://localhost:8080/"
        },
        "id": "KckFce7gvDZO",
        "outputId": "9d4864a4-445b-4bf3-9999-11bd1ddbce1b"
      },
      "execution_count": null,
      "outputs": [
        {
          "output_type": "stream",
          "name": "stdout",
          "text": [
            "Requirement already satisfied: dynesty in /usr/local/lib/python3.12/dist-packages (2.1.5)\n",
            "Requirement already satisfied: bilby[gw] in /usr/local/lib/python3.12/dist-packages (2.6.0)\n",
            "Requirement already satisfied: bilby.cython>=0.3.0 in /usr/local/lib/python3.12/dist-packages (from bilby[gw]) (0.5.3)\n",
            "Requirement already satisfied: emcee in /usr/local/lib/python3.12/dist-packages (from bilby[gw]) (3.1.6)\n",
            "Requirement already satisfied: corner in /usr/local/lib/python3.12/dist-packages (from bilby[gw]) (2.2.3)\n",
            "Requirement already satisfied: numpy in /usr/local/lib/python3.12/dist-packages (from bilby[gw]) (2.0.2)\n",
            "Requirement already satisfied: matplotlib in /usr/local/lib/python3.12/dist-packages (from bilby[gw]) (3.10.0)\n",
            "Requirement already satisfied: scipy>=1.5 in /usr/local/lib/python3.12/dist-packages (from bilby[gw]) (1.16.2)\n",
            "Requirement already satisfied: pandas in /usr/local/lib/python3.12/dist-packages (from bilby[gw]) (2.2.2)\n",
            "Requirement already satisfied: dill in /usr/local/lib/python3.12/dist-packages (from bilby[gw]) (0.3.8)\n",
            "Requirement already satisfied: tqdm in /usr/local/lib/python3.12/dist-packages (from bilby[gw]) (4.67.1)\n",
            "Requirement already satisfied: h5py in /usr/local/lib/python3.12/dist-packages (from bilby[gw]) (3.14.0)\n",
            "Requirement already satisfied: attrs in /usr/local/lib/python3.12/dist-packages (from bilby[gw]) (25.4.0)\n",
            "Requirement already satisfied: astropy>=5 in /usr/local/lib/python3.12/dist-packages (from bilby[gw]) (7.1.0)\n",
            "Requirement already satisfied: lalsuite in /usr/local/lib/python3.12/dist-packages (from bilby[gw]) (7.26.1)\n",
            "Requirement already satisfied: gwpy in /usr/local/lib/python3.12/dist-packages (from bilby[gw]) (3.0.13)\n",
            "Requirement already satisfied: tables in /usr/local/lib/python3.12/dist-packages (from bilby[gw]) (3.10.2)\n",
            "Requirement already satisfied: pyfftw in /usr/local/lib/python3.12/dist-packages (from bilby[gw]) (0.15.0)\n",
            "Requirement already satisfied: scikit-learn in /usr/local/lib/python3.12/dist-packages (from bilby[gw]) (1.6.1)\n",
            "Requirement already satisfied: pyerfa>=2.0.1.1 in /usr/local/lib/python3.12/dist-packages (from astropy>=5->bilby[gw]) (2.0.1.5)\n",
            "Requirement already satisfied: astropy-iers-data>=0.2025.4.28.0.37.27 in /usr/local/lib/python3.12/dist-packages (from astropy>=5->bilby[gw]) (0.2025.10.6.0.35.25)\n",
            "Requirement already satisfied: PyYAML>=6.0.0 in /usr/local/lib/python3.12/dist-packages (from astropy>=5->bilby[gw]) (6.0.3)\n",
            "Requirement already satisfied: packaging>=22.0.0 in /usr/local/lib/python3.12/dist-packages (from astropy>=5->bilby[gw]) (25.0)\n",
            "Requirement already satisfied: contourpy>=1.0.1 in /usr/local/lib/python3.12/dist-packages (from matplotlib->bilby[gw]) (1.3.3)\n",
            "Requirement already satisfied: cycler>=0.10 in /usr/local/lib/python3.12/dist-packages (from matplotlib->bilby[gw]) (0.12.1)\n",
            "Requirement already satisfied: fonttools>=4.22.0 in /usr/local/lib/python3.12/dist-packages (from matplotlib->bilby[gw]) (4.60.1)\n",
            "Requirement already satisfied: kiwisolver>=1.3.1 in /usr/local/lib/python3.12/dist-packages (from matplotlib->bilby[gw]) (1.4.9)\n",
            "Requirement already satisfied: pillow>=8 in /usr/local/lib/python3.12/dist-packages (from matplotlib->bilby[gw]) (11.3.0)\n",
            "Requirement already satisfied: pyparsing>=2.3.1 in /usr/local/lib/python3.12/dist-packages (from matplotlib->bilby[gw]) (3.2.5)\n",
            "Requirement already satisfied: python-dateutil>=2.7 in /usr/local/lib/python3.12/dist-packages (from matplotlib->bilby[gw]) (2.9.0.post0)\n",
            "Requirement already satisfied: dateparser>=1.1.4 in /usr/local/lib/python3.12/dist-packages (from gwpy->bilby[gw]) (1.2.2)\n",
            "Requirement already satisfied: dqsegdb2 in /usr/local/lib/python3.12/dist-packages (from gwpy->bilby[gw]) (1.3.0)\n",
            "Requirement already satisfied: gwdatafind>=1.1.0 in /usr/local/lib/python3.12/dist-packages (from gwpy->bilby[gw]) (2.1.0)\n",
            "Requirement already satisfied: gwosc>=0.5.3 in /usr/local/lib/python3.12/dist-packages (from gwpy->bilby[gw]) (0.8.1)\n",
            "Requirement already satisfied: igwn-segments>=2.0.0 in /usr/local/lib/python3.12/dist-packages (from gwpy->bilby[gw]) (2.1.0)\n",
            "Requirement already satisfied: ligotimegps>=1.2.1 in /usr/local/lib/python3.12/dist-packages (from gwpy->bilby[gw]) (2.1.0)\n",
            "Requirement already satisfied: requests>=2.20.0 in /usr/local/lib/python3.12/dist-packages (from gwpy->bilby[gw]) (2.32.4)\n",
            "Requirement already satisfied: igwn-ligolw in /usr/local/lib/python3.12/dist-packages (from lalsuite->bilby[gw]) (2.0.1)\n",
            "Requirement already satisfied: lscsoft-glue in /usr/local/lib/python3.12/dist-packages (from lalsuite->bilby[gw]) (4.1.1)\n",
            "Requirement already satisfied: pytz>=2020.1 in /usr/local/lib/python3.12/dist-packages (from pandas->bilby[gw]) (2025.2)\n",
            "Requirement already satisfied: tzdata>=2022.7 in /usr/local/lib/python3.12/dist-packages (from pandas->bilby[gw]) (2025.2)\n",
            "Requirement already satisfied: setuptools>=70.1.1 in /usr/local/lib/python3.12/dist-packages (from pyfftw->bilby[gw]) (75.2.0)\n",
            "Requirement already satisfied: joblib>=1.2.0 in /usr/local/lib/python3.12/dist-packages (from scikit-learn->bilby[gw]) (1.5.2)\n",
            "Requirement already satisfied: threadpoolctl>=3.1.0 in /usr/local/lib/python3.12/dist-packages (from scikit-learn->bilby[gw]) (3.6.0)\n",
            "Requirement already satisfied: numexpr>=2.6.2 in /usr/local/lib/python3.12/dist-packages (from tables->bilby[gw]) (2.13.1)\n",
            "Requirement already satisfied: py-cpuinfo in /usr/local/lib/python3.12/dist-packages (from tables->bilby[gw]) (9.0.0)\n",
            "Requirement already satisfied: blosc2>=2.3.0 in /usr/local/lib/python3.12/dist-packages (from tables->bilby[gw]) (3.10.0)\n",
            "Requirement already satisfied: typing-extensions>=4.4.0 in /usr/local/lib/python3.12/dist-packages (from tables->bilby[gw]) (4.15.0)\n",
            "Requirement already satisfied: ndindex in /usr/local/lib/python3.12/dist-packages (from blosc2>=2.3.0->tables->bilby[gw]) (1.10.0)\n",
            "Requirement already satisfied: msgpack in /usr/local/lib/python3.12/dist-packages (from blosc2>=2.3.0->tables->bilby[gw]) (1.1.2)\n",
            "Requirement already satisfied: platformdirs in /usr/local/lib/python3.12/dist-packages (from blosc2>=2.3.0->tables->bilby[gw]) (4.5.0)\n",
            "Requirement already satisfied: regex>=2024.9.11 in /usr/local/lib/python3.12/dist-packages (from dateparser>=1.1.4->gwpy->bilby[gw]) (2024.11.6)\n",
            "Requirement already satisfied: tzlocal>=0.2 in /usr/local/lib/python3.12/dist-packages (from dateparser>=1.1.4->gwpy->bilby[gw]) (5.3.1)\n",
            "Requirement already satisfied: igwn-auth-utils>=0.3.1 in /usr/local/lib/python3.12/dist-packages (from gwdatafind>=1.1.0->gwpy->bilby[gw]) (1.4.0)\n",
            "Requirement already satisfied: six>=1.5 in /usr/local/lib/python3.12/dist-packages (from python-dateutil>=2.7->matplotlib->bilby[gw]) (1.17.0)\n",
            "Requirement already satisfied: charset_normalizer<4,>=2 in /usr/local/lib/python3.12/dist-packages (from requests>=2.20.0->gwpy->bilby[gw]) (3.4.3)\n",
            "Requirement already satisfied: idna<4,>=2.5 in /usr/local/lib/python3.12/dist-packages (from requests>=2.20.0->gwpy->bilby[gw]) (3.10)\n",
            "Requirement already satisfied: urllib3<3,>=1.21.1 in /usr/local/lib/python3.12/dist-packages (from requests>=2.20.0->gwpy->bilby[gw]) (2.5.0)\n",
            "Requirement already satisfied: certifi>=2017.4.17 in /usr/local/lib/python3.12/dist-packages (from requests>=2.20.0->gwpy->bilby[gw]) (2025.10.5)\n",
            "Requirement already satisfied: click>=6.7 in /usr/local/lib/python3.12/dist-packages (from dqsegdb2->gwpy->bilby[gw]) (8.3.0)\n",
            "Requirement already satisfied: cryptography>=44.0.1 in /usr/local/lib/python3.12/dist-packages (from igwn-auth-utils>=0.3.1->gwdatafind>=1.1.0->gwpy->bilby[gw]) (46.0.2)\n",
            "Requirement already satisfied: safe-netrc>=1.0 in /usr/local/lib/python3.12/dist-packages (from igwn-auth-utils>=0.3.1->gwdatafind>=1.1.0->gwpy->bilby[gw]) (1.0.1)\n",
            "Requirement already satisfied: scitokens>=1.8 in /usr/local/lib/python3.12/dist-packages (from igwn-auth-utils>=0.3.1->gwdatafind>=1.1.0->gwpy->bilby[gw]) (1.8.1)\n",
            "Requirement already satisfied: cffi>=2.0.0 in /usr/local/lib/python3.12/dist-packages (from cryptography>=44.0.1->igwn-auth-utils>=0.3.1->gwdatafind>=1.1.0->gwpy->bilby[gw]) (2.0.0)\n",
            "Requirement already satisfied: PyJWT>=1.6.1 in /usr/local/lib/python3.12/dist-packages (from scitokens>=1.8->igwn-auth-utils>=0.3.1->gwdatafind>=1.1.0->gwpy->bilby[gw]) (2.10.1)\n",
            "Requirement already satisfied: pycparser in /usr/local/lib/python3.12/dist-packages (from cffi>=2.0.0->cryptography>=44.0.1->igwn-auth-utils>=0.3.1->gwdatafind>=1.1.0->gwpy->bilby[gw]) (2.23)\n",
            "Requirement already satisfied: cryptography in /usr/local/lib/python3.12/dist-packages (46.0.2)\n",
            "Requirement already satisfied: cffi>=2.0.0 in /usr/local/lib/python3.12/dist-packages (from cryptography) (2.0.0)\n",
            "Requirement already satisfied: pycparser in /usr/local/lib/python3.12/dist-packages (from cffi>=2.0.0->cryptography) (2.23)\n",
            "✅ Bilby and dependencies installed and imported.\n"
          ]
        }
      ]
    },
    {
      "cell_type": "code",
      "source": [
        "# Cell 3: Injection Parameters (CLEANUP FOR STABILITY)\n",
        "injection_parameters = dict(\n",
        "    mass_1=36.0, mass_2=29.0,\n",
        "\n",
        "    # Keeping component spins for now as they are required by the approximant\n",
        "    a_1=0.4, a_2=0.3, tilt_1=0.0, tilt_2=0.0, phi_12=0.0, phi_jl=0.0,\n",
        "\n",
        "    luminosity_distance=100.0, # Mpc\n",
        "    chi=0.0, # Your custom phase parameter is still here\n",
        "\n",
        "    # Use the simplest, most stable non-precessing approximant\n",
        "    approximant='IMRPhenomD',\n",
        "\n",
        "    theta_jn=0.4, phase=1.3, geocent_time=0.0,\n",
        "    ra=1.375, dec=-1.2108, psi=2.659\n",
        ")\n",
        "print(\"✅ Injection parameters set (approximant=IMRPhenomD).\")\n"
      ],
      "metadata": {
        "colab": {
          "base_uri": "https://localhost:8080/"
        },
        "id": "HkTenkdQeUrn",
        "outputId": "cfdfab4b-e581-48b1-e40a-d6f41d143834"
      },
      "execution_count": null,
      "outputs": [
        {
          "output_type": "stream",
          "name": "stdout",
          "text": [
            "✅ Injection parameters set (approximant=IMRPhenomD).\n"
          ]
        }
      ]
    },
    {
      "cell_type": "code",
      "source": [
        "# --- Cell 4: Define Priors and Waveform Generator (FINAL STABLE VERSION) ---\n",
        "\n",
        "from bilby.core.prior import Uniform, DeltaFunction, PriorDict\n",
        "from bilby.gw.waveform_generator import WaveformGenerator\n",
        "import bilby.gw.source as source # Import source module\n",
        "\n",
        "# 1. Make a SAFE copy of injection parameters before priors overwrite them\n",
        "injection_parameters_fixed = injection_parameters.copy()\n",
        "\n",
        "# 2. Build priors dictionary starting from the copy\n",
        "priors = PriorDict(injection_parameters_fixed)\n",
        "\n",
        "# --- CRITICAL PRIORS FOR STABILITY & CONVERGENCE ---\n",
        "\n",
        "# Chi prior: widened to reflect Fisher-sensitivity (~5×10⁻⁴ uncertainty)\n",
        "priors['chi'] = Uniform(\n",
        "    name='chi', minimum=-2e-3, maximum=2e-3, latex_label='\\\\chi'\n",
        ")\n",
        "\n",
        "# Chirp Mass prior: ultra-tightened for stability around true value\n",
        "priors['chirp_mass'] = Uniform(\n",
        "    name='chirp_mass', minimum=28.4, maximum=28.7, unit='$M_\\\\odot$'\n",
        ")\n",
        "\n",
        "# Luminosity Distance prior: slightly relaxed but narrow\n",
        "priors['luminosity_distance'] = Uniform(\n",
        "    name='luminosity_distance', minimum=90.0, maximum=120.0, unit='Mpc'\n",
        ")\n",
        "\n",
        "# All other parameters fixed (DeltaFunction priors)\n",
        "fixed_keys = [\n",
        "    'mass_1', 'mass_2', 'a_1', 'a_2', 'tilt_1', 'tilt_2', 'phi_12',\n",
        "    'phi_jl', 'theta_jn', 'phase', 'geocent_time', 'ra', 'dec', 'psi'\n",
        "]\n",
        "for k in fixed_keys:\n",
        "    # CRITICAL FIX: Extract the numerical peak value (.peak) from the existing prior\n",
        "    priors[k] = DeltaFunction(priors[k].peak)\n",
        "\n",
        "# 3. Define the waveform generator using the BUILT-IN LAL source model\n",
        "waveform_generator = WaveformGenerator(\n",
        "    duration=16.0,  # Long duration ensures better low-f phase resolution\n",
        "    sampling_frequency=2048.0,\n",
        "    # Use the standard built-in LAL source model\n",
        "    frequency_domain_source_model=source.lal_binary_black_hole,\n",
        "    parameter_conversion=None\n",
        ")\n",
        "\n",
        "print(\"✅ Priors and waveform generator successfully defined using standard LAL source.\")\n"
      ],
      "metadata": {
        "colab": {
          "base_uri": "https://localhost:8080/"
        },
        "id": "44qFTvy3hPi6",
        "outputId": "daff2e89-c070-440e-94b6-120164a4d342"
      },
      "execution_count": null,
      "outputs": [
        {
          "output_type": "stream",
          "name": "stderr",
          "text": [
            "23:04 bilby INFO    : Waveform generator initiated with\n",
            "  frequency_domain_source_model: bilby.gw.source.lal_binary_black_hole\n",
            "  time_domain_source_model: None\n",
            "  parameter_conversion: bilby.gw.conversion.convert_to_lal_binary_black_hole_parameters\n"
          ]
        },
        {
          "output_type": "stream",
          "name": "stdout",
          "text": [
            "✅ Priors and waveform generator successfully defined using standard LAL source.\n"
          ]
        }
      ]
    },
    {
      "cell_type": "code",
      "source": [
        "# Cell 5: Detector Setup, Signal Injection, and Likelihood Definition (REVERTED TO FULL PARAMS)\n",
        "\n",
        "from bilby.gw.likelihood import GravitationalWaveTransient\n",
        "\n",
        "# 1. Get Injection Time\n",
        "geocent_time = injection_parameters['geocent_time']\n",
        "\n",
        "# 2. Define the Interferometer (Detector) Network\n",
        "ifos = bilby.gw.detector.InterferometerList(['H1', 'L1', 'V1'])\n",
        "ifos.set_strain_data_from_power_spectral_densities(\n",
        "    sampling_frequency=2048.0,\n",
        "    duration=16.0,\n",
        "    start_time=geocent_time - 15.0\n",
        ")\n",
        "\n",
        "# 3. Inject the Signal using the FULL, UNFILTERED dictionary (REQUIRED for injection)\n",
        "ifos.inject_signal(\n",
        "    parameters=injection_parameters, # NO FILTERING HERE\n",
        "    waveform_generator=waveform_generator\n",
        ")\n",
        "\n",
        "# 4. Define the Likelihood Function\n",
        "likelihood = GravitationalWaveTransient(\n",
        "    interferometers=ifos,\n",
        "    waveform_generator=waveform_generator,\n",
        "    time_marginalization=False,\n",
        "    distance_marginalization=False,\n",
        "    phase_marginalization=False\n",
        ")\n",
        "\n",
        "print(\"✅ Likelihood defined and signal injected (Injection parameters reverted to full set).\")\n"
      ],
      "metadata": {
        "colab": {
          "base_uri": "https://localhost:8080/"
        },
        "id": "7Fn4DDylTUzt",
        "outputId": "c3328e1d-ed57-46e9-ee1d-8c29465e6107"
      },
      "execution_count": null,
      "outputs": [
        {
          "output_type": "stream",
          "name": "stderr",
          "text": [
            "23:04 bilby INFO    : Injected signal in H1:\n",
            "23:04 bilby INFO    :   optimal SNR = 284.19\n",
            "23:04 bilby INFO    :   matched filter SNR = 284.82+0.42j\n",
            "23:04 bilby INFO    :   mass_1 = 36.0\n",
            "23:04 bilby INFO    :   mass_2 = 29.0\n",
            "23:04 bilby INFO    :   a_1 = 0.4\n",
            "23:04 bilby INFO    :   a_2 = 0.3\n",
            "23:04 bilby INFO    :   tilt_1 = 0.0\n",
            "23:04 bilby INFO    :   tilt_2 = 0.0\n",
            "23:04 bilby INFO    :   phi_12 = 0.0\n",
            "23:04 bilby INFO    :   phi_jl = 0.0\n",
            "23:04 bilby INFO    :   luminosity_distance = 100.0\n",
            "23:04 bilby INFO    :   chi = 0.0\n",
            "23:04 bilby INFO    :   approximant = IMRPhenomD\n",
            "23:04 bilby INFO    :   theta_jn = 0.4\n",
            "23:04 bilby INFO    :   phase = 1.3\n",
            "23:04 bilby INFO    :   geocent_time = 0.0\n",
            "23:04 bilby INFO    :   ra = 1.375\n",
            "23:04 bilby INFO    :   dec = -1.2108\n",
            "23:04 bilby INFO    :   psi = 2.659\n",
            "23:04 bilby INFO    : Injected signal in L1:\n",
            "23:04 bilby INFO    :   optimal SNR = 215.44\n",
            "23:04 bilby INFO    :   matched filter SNR = 214.62+0.10j\n",
            "23:04 bilby INFO    :   mass_1 = 36.0\n",
            "23:04 bilby INFO    :   mass_2 = 29.0\n",
            "23:04 bilby INFO    :   a_1 = 0.4\n",
            "23:04 bilby INFO    :   a_2 = 0.3\n",
            "23:04 bilby INFO    :   tilt_1 = 0.0\n",
            "23:04 bilby INFO    :   tilt_2 = 0.0\n",
            "23:04 bilby INFO    :   phi_12 = 0.0\n",
            "23:04 bilby INFO    :   phi_jl = 0.0\n",
            "23:04 bilby INFO    :   luminosity_distance = 100.0\n",
            "23:04 bilby INFO    :   chi = 0.0\n",
            "23:04 bilby INFO    :   approximant = IMRPhenomD\n",
            "23:04 bilby INFO    :   theta_jn = 0.4\n",
            "23:04 bilby INFO    :   phase = 1.3\n",
            "23:04 bilby INFO    :   geocent_time = 0.0\n",
            "23:04 bilby INFO    :   ra = 1.375\n",
            "23:04 bilby INFO    :   dec = -1.2108\n",
            "23:04 bilby INFO    :   psi = 2.659\n",
            "23:04 bilby INFO    : Injected signal in V1:\n",
            "23:04 bilby INFO    :   optimal SNR = 177.36\n",
            "23:04 bilby INFO    :   matched filter SNR = 177.49-0.97j\n",
            "23:04 bilby INFO    :   mass_1 = 36.0\n",
            "23:04 bilby INFO    :   mass_2 = 29.0\n",
            "23:04 bilby INFO    :   a_1 = 0.4\n",
            "23:04 bilby INFO    :   a_2 = 0.3\n",
            "23:04 bilby INFO    :   tilt_1 = 0.0\n",
            "23:04 bilby INFO    :   tilt_2 = 0.0\n",
            "23:04 bilby INFO    :   phi_12 = 0.0\n",
            "23:04 bilby INFO    :   phi_jl = 0.0\n",
            "23:04 bilby INFO    :   luminosity_distance = 100.0\n",
            "23:04 bilby INFO    :   chi = 0.0\n",
            "23:04 bilby INFO    :   approximant = IMRPhenomD\n",
            "23:04 bilby INFO    :   theta_jn = 0.4\n",
            "23:04 bilby INFO    :   phase = 1.3\n",
            "23:04 bilby INFO    :   geocent_time = 0.0\n",
            "23:04 bilby INFO    :   ra = 1.375\n",
            "23:04 bilby INFO    :   dec = -1.2108\n",
            "23:04 bilby INFO    :   psi = 2.659\n"
          ]
        },
        {
          "output_type": "stream",
          "name": "stdout",
          "text": [
            "✅ Likelihood defined and signal injected (Injection parameters reverted to full set).\n"
          ]
        }
      ]
    },
    {
      "cell_type": "code",
      "source": [
        "# --- Cell 6: Run Bayesian Sampler (Expected Runtime: Minutes to Hours) ---\n",
        "\n",
        "import os\n",
        "import bilby\n",
        "\n",
        "outdir = 'outdir'\n",
        "label = 'GW_constraint_Final'\n",
        "\n",
        "# Ensure the output directory exists\n",
        "os.makedirs(outdir, exist_ok=True)\n",
        "\n",
        "print(\"Starting Dynesty Sampler. This will take several minutes to complete...\")\n",
        "print(\"If this step finishes instantly, it has crashed.\")\n",
        "\n",
        "# Run the sampler\n",
        "result = bilby.run_sampler(\n",
        "    likelihood=likelihood,\n",
        "    priors=priors,\n",
        "    outdir=outdir,\n",
        "    label=label,\n",
        "    # Sampler Configuration\n",
        "    sampler='dynesty',\n",
        "    nlive=500,        # Number of live points (affects accuracy and runtime)\n",
        "    dlogz=0.5,        # Stop criterion (increase for higher accuracy)\n",
        "    nact=10,          # Autocorrelation time estimate\n",
        "    # Other settings\n",
        "    clean=True,\n",
        "    resume=False,\n",
        "    save=True,\n",
        "    checkpoint_every=600,\n",
        "    injection_parameters=injection_parameters\n",
        ")\n",
        "\n",
        "print(f\"✅ Sampler finished. Results saved to {outdir}/{label}_result.json\")\n"
      ],
      "metadata": {
        "colab": {
          "base_uri": "https://localhost:8080/",
          "height": 1000,
          "referenced_widgets": [
            "74db5afcabd44b6e82c5b3e83d48b9e1",
            "84ca3e8689ea48e1ae3a04023c555cef",
            "d2674deb7c034141b754aa72e30d066d",
            "e2596f62a1f04aa39f94230262b013c1",
            "22c46d712b404b3db66993b2f50117c4",
            "843d144306cc430eb7389dad09e6288b",
            "6803979deaf4467488bb58e733b39ce1",
            "6b23aa32efb349969e5ce41939851dc7",
            "71d9a576a55d4c24a8d02f14db6a0d64",
            "5cbcfe1fe655495e81fd57226cafbd29",
            "576090dae9be44c1bb836683338e6a0c"
          ]
        },
        "id": "2WKBxrdggsYv",
        "outputId": "1b38ce1f-cb54-43f3-f00e-112507d4b46f"
      },
      "execution_count": null,
      "outputs": [
        {
          "output_type": "stream",
          "name": "stderr",
          "text": [
            "23:05 bilby INFO    : Running for label 'GW_constraint_Final', output will be saved to 'outdir'\n",
            "23:05 bilby INFO    : Using lal version 7.7.0\n",
            "23:05 bilby INFO    : Using lal git version Branch: None;Tag: lalsuite-v7.26.1;Id: c90e1175f5e238741185744a4e516e58d42a9aec;;Builder: Unknown User <>;Repository status: UNCLEAN: Modified working tree\n",
            "23:05 bilby INFO    : Using lalsimulation version 6.2.0\n",
            "23:05 bilby INFO    : Using lalsimulation git version Branch: None;Tag: lalsuite-v7.26.1;Id: c90e1175f5e238741185744a4e516e58d42a9aec;;Builder: Unknown User <>;Repository status: UNCLEAN: Modified working tree\n"
          ]
        },
        {
          "output_type": "stream",
          "name": "stdout",
          "text": [
            "Starting Dynesty Sampler. This will take several minutes to complete...\n",
            "If this step finishes instantly, it has crashed.\n"
          ]
        },
        {
          "output_type": "stream",
          "name": "stderr",
          "text": [
            "23:05 bilby INFO    : Analysis priors:\n",
            "23:05 bilby INFO    : luminosity_distance=Uniform(minimum=90.0, maximum=120.0, name='luminosity_distance', latex_label='$d_L$', unit='Mpc', boundary=None)\n",
            "23:05 bilby INFO    : chi=Uniform(minimum=-0.002, maximum=0.002, name='chi', latex_label='\\\\chi', unit=None, boundary=None)\n",
            "23:05 bilby INFO    : chirp_mass=Uniform(minimum=28.4, maximum=28.7, name='chirp_mass', latex_label='$\\\\mathcal{M}$', unit='$M_\\\\odot$', boundary=None)\n",
            "23:05 bilby INFO    : mass_1=36.0\n",
            "23:05 bilby INFO    : mass_2=29.0\n",
            "23:05 bilby INFO    : a_1=0.4\n",
            "23:05 bilby INFO    : a_2=0.3\n",
            "23:05 bilby INFO    : tilt_1=0.0\n",
            "23:05 bilby INFO    : tilt_2=0.0\n",
            "23:05 bilby INFO    : phi_12=0.0\n",
            "23:05 bilby INFO    : phi_jl=0.0\n",
            "23:05 bilby INFO    : theta_jn=0.4\n",
            "23:05 bilby INFO    : phase=1.3\n",
            "23:05 bilby INFO    : geocent_time=0.0\n",
            "23:05 bilby INFO    : ra=1.375\n",
            "23:05 bilby INFO    : dec=-1.2108\n",
            "23:05 bilby INFO    : psi=2.659\n",
            "23:05 bilby INFO    : Analysis likelihood class: <class 'bilby.gw.likelihood.base.GravitationalWaveTransient'>\n",
            "23:05 bilby INFO    : Analysis likelihood noise evidence: -127707.16562735624\n",
            "23:05 bilby INFO    : Single likelihood evaluation took 8.198e-02 s\n",
            "23:05 bilby INFO    : Using sampler Dynesty with kwargs {'nlive': 500, 'bound': 'live', 'sample': 'act-walk', 'periodic': None, 'reflective': None, 'update_interval': 600, 'first_update': None, 'npdim': None, 'rstate': None, 'queue_size': 1, 'pool': None, 'use_pool': None, 'live_points': None, 'logl_args': None, 'logl_kwargs': None, 'ptform_args': None, 'ptform_kwargs': None, 'gradient': None, 'grad_args': None, 'grad_kwargs': None, 'compute_jac': False, 'enlarge': None, 'bootstrap': None, 'walks': 100, 'facc': 0.2, 'slices': None, 'fmove': 0.9, 'max_move': 100, 'update_func': None, 'ncdim': None, 'blob': False, 'save_history': False, 'history_filename': None, 'maxiter': None, 'maxcall': None, 'dlogz': 0.5, 'logl_max': inf, 'n_effective': None, 'add_live': True, 'print_progress': True, 'print_func': <bound method Dynesty._print_func of <bilby.core.sampler.dynesty.Dynesty object at 0x7853ee6e3b00>>, 'save_bounds': False, 'checkpoint_file': None, 'checkpoint_every': 600, 'resume': False, 'seed': None}\n",
            "23:05 bilby INFO    : Global meta data was removed from the result object for compatibility. Use the `BILBY_INCLUDE_GLOBAL_METADATA` environment variable to include it. This behaviour will be removed in a future release. For more details see: https://bilby-dev.github.io/bilby/faq.html#global-meta-data\n",
            "23:05 bilby INFO    : Checkpoint every check_point_delta_t = 600s\n",
            "23:05 bilby INFO    : Using dynesty version 2.1.5\n",
            "23:05 bilby INFO    : Using the bilby-implemented act-walk sampling tracking the autocorrelation function and thinning by 10 with maximum length 50000\n",
            "23:05 bilby INFO    : Generating initial points from the prior\n"
          ]
        },
        {
          "output_type": "display_data",
          "data": {
            "text/plain": [
              "1it [00:00, ?it/s]"
            ],
            "application/vnd.jupyter.widget-view+json": {
              "version_major": 2,
              "version_minor": 0,
              "model_id": "74db5afcabd44b6e82c5b3e83d48b9e1"
            }
          },
          "metadata": {}
        },
        {
          "output_type": "stream",
          "name": "stderr",
          "text": [
            "23:16 bilby INFO    : Written checkpoint file outdir/GW_constraint_Final_resume.pickle\n",
            "/usr/local/lib/python3.12/dist-packages/dynesty/plotting.py:252: RuntimeWarning: overflow encountered in exp\n",
            "  np.exp(logwt), logz if logplot else np.exp(logz)\n",
            "/usr/local/lib/python3.12/dist-packages/dynesty/plotting.py:282: RuntimeWarning: overflow encountered in exp\n",
            "  zspan = (0., 1.05 * np.exp(logz[-1] + 3. * logzerr[-1]))\n",
            "23:16 bilby WARNING : Axis limits cannot be NaN or Inf\n",
            "23:16 bilby WARNING : Failed to create dynesty run plot at checkpoint\n",
            "23:27 bilby INFO    : Written checkpoint file outdir/GW_constraint_Final_resume.pickle\n",
            "/usr/local/lib/python3.12/dist-packages/dynesty/plotting.py:252: RuntimeWarning: overflow encountered in exp\n",
            "  np.exp(logwt), logz if logplot else np.exp(logz)\n",
            "/usr/local/lib/python3.12/dist-packages/dynesty/plotting.py:282: RuntimeWarning: overflow encountered in exp\n",
            "  zspan = (0., 1.05 * np.exp(logz[-1] + 3. * logzerr[-1]))\n",
            "23:27 bilby WARNING : Axis limits cannot be NaN or Inf\n",
            "23:27 bilby WARNING : Failed to create dynesty run plot at checkpoint\n",
            "23:38 bilby INFO    : Written checkpoint file outdir/GW_constraint_Final_resume.pickle\n",
            "/usr/local/lib/python3.12/dist-packages/dynesty/plotting.py:252: RuntimeWarning: overflow encountered in exp\n",
            "  np.exp(logwt), logz if logplot else np.exp(logz)\n",
            "/usr/local/lib/python3.12/dist-packages/dynesty/plotting.py:282: RuntimeWarning: overflow encountered in exp\n",
            "  zspan = (0., 1.05 * np.exp(logz[-1] + 3. * logzerr[-1]))\n",
            "23:38 bilby WARNING : Axis limits cannot be NaN or Inf\n",
            "23:38 bilby WARNING : Failed to create dynesty run plot at checkpoint\n",
            "23:49 bilby INFO    : Written checkpoint file outdir/GW_constraint_Final_resume.pickle\n",
            "/usr/local/lib/python3.12/dist-packages/dynesty/plotting.py:252: RuntimeWarning: overflow encountered in exp\n",
            "  np.exp(logwt), logz if logplot else np.exp(logz)\n",
            "/usr/local/lib/python3.12/dist-packages/dynesty/plotting.py:282: RuntimeWarning: overflow encountered in exp\n",
            "  zspan = (0., 1.05 * np.exp(logz[-1] + 3. * logzerr[-1]))\n",
            "23:49 bilby WARNING : Axis limits cannot be NaN or Inf\n",
            "23:49 bilby WARNING : Failed to create dynesty run plot at checkpoint\n",
            "00:00 bilby INFO    : Written checkpoint file outdir/GW_constraint_Final_resume.pickle\n",
            "/usr/local/lib/python3.12/dist-packages/dynesty/plotting.py:252: RuntimeWarning: overflow encountered in exp\n",
            "  np.exp(logwt), logz if logplot else np.exp(logz)\n",
            "/usr/local/lib/python3.12/dist-packages/dynesty/plotting.py:282: RuntimeWarning: overflow encountered in exp\n",
            "  zspan = (0., 1.05 * np.exp(logz[-1] + 3. * logzerr[-1]))\n",
            "00:00 bilby WARNING : Axis limits cannot be NaN or Inf\n",
            "00:00 bilby WARNING : Failed to create dynesty run plot at checkpoint\n",
            "00:11 bilby INFO    : Written checkpoint file outdir/GW_constraint_Final_resume.pickle\n",
            "/usr/local/lib/python3.12/dist-packages/dynesty/plotting.py:252: RuntimeWarning: overflow encountered in exp\n",
            "  np.exp(logwt), logz if logplot else np.exp(logz)\n",
            "/usr/local/lib/python3.12/dist-packages/dynesty/plotting.py:282: RuntimeWarning: overflow encountered in exp\n",
            "  zspan = (0., 1.05 * np.exp(logz[-1] + 3. * logzerr[-1]))\n",
            "00:11 bilby WARNING : Axis limits cannot be NaN or Inf\n",
            "00:11 bilby WARNING : Failed to create dynesty run plot at checkpoint\n",
            "00:22 bilby INFO    : Written checkpoint file outdir/GW_constraint_Final_resume.pickle\n",
            "/usr/local/lib/python3.12/dist-packages/dynesty/plotting.py:252: RuntimeWarning: overflow encountered in exp\n",
            "  np.exp(logwt), logz if logplot else np.exp(logz)\n",
            "/usr/local/lib/python3.12/dist-packages/dynesty/plotting.py:282: RuntimeWarning: overflow encountered in exp\n",
            "  zspan = (0., 1.05 * np.exp(logz[-1] + 3. * logzerr[-1]))\n",
            "00:22 bilby WARNING : Axis limits cannot be NaN or Inf\n",
            "00:22 bilby WARNING : Failed to create dynesty run plot at checkpoint\n",
            "00:32 bilby INFO    : Written checkpoint file outdir/GW_constraint_Final_resume.pickle\n",
            "/usr/local/lib/python3.12/dist-packages/dynesty/plotting.py:252: RuntimeWarning: overflow encountered in exp\n",
            "  np.exp(logwt), logz if logplot else np.exp(logz)\n",
            "/usr/local/lib/python3.12/dist-packages/dynesty/plotting.py:282: RuntimeWarning: overflow encountered in exp\n",
            "  zspan = (0., 1.05 * np.exp(logz[-1] + 3. * logzerr[-1]))\n",
            "00:33 bilby WARNING : Axis limits cannot be NaN or Inf\n",
            "00:33 bilby WARNING : Failed to create dynesty run plot at checkpoint\n",
            "00:44 bilby INFO    : Written checkpoint file outdir/GW_constraint_Final_resume.pickle\n",
            "/usr/local/lib/python3.12/dist-packages/dynesty/plotting.py:252: RuntimeWarning: overflow encountered in exp\n",
            "  np.exp(logwt), logz if logplot else np.exp(logz)\n",
            "/usr/local/lib/python3.12/dist-packages/dynesty/plotting.py:282: RuntimeWarning: overflow encountered in exp\n",
            "  zspan = (0., 1.05 * np.exp(logz[-1] + 3. * logzerr[-1]))\n",
            "00:44 bilby WARNING : Axis limits cannot be NaN or Inf\n",
            "00:44 bilby WARNING : Failed to create dynesty run plot at checkpoint\n",
            "00:54 bilby INFO    : Written checkpoint file outdir/GW_constraint_Final_resume.pickle\n",
            "/usr/local/lib/python3.12/dist-packages/dynesty/plotting.py:252: RuntimeWarning: overflow encountered in exp\n",
            "  np.exp(logwt), logz if logplot else np.exp(logz)\n",
            "/usr/local/lib/python3.12/dist-packages/dynesty/plotting.py:282: RuntimeWarning: overflow encountered in exp\n",
            "  zspan = (0., 1.05 * np.exp(logz[-1] + 3. * logzerr[-1]))\n",
            "00:54 bilby WARNING : Axis limits cannot be NaN or Inf\n",
            "00:54 bilby WARNING : Failed to create dynesty run plot at checkpoint\n",
            "00:54 bilby INFO    : Written checkpoint file outdir/GW_constraint_Final_resume.pickle\n",
            "/usr/local/lib/python3.12/dist-packages/dynesty/plotting.py:252: RuntimeWarning: overflow encountered in exp\n",
            "  np.exp(logwt), logz if logplot else np.exp(logz)\n",
            "/usr/local/lib/python3.12/dist-packages/dynesty/plotting.py:282: RuntimeWarning: overflow encountered in exp\n",
            "  zspan = (0., 1.05 * np.exp(logz[-1] + 3. * logzerr[-1]))\n",
            "00:54 bilby WARNING : Axis limits cannot be NaN or Inf\n",
            "00:54 bilby WARNING : Failed to create dynesty run plot at checkpoint\n",
            "00:54 bilby INFO    : Rejection sampling nested samples to obtain 1040 posterior samples\n",
            "00:54 bilby INFO    : Sampling time: 1:48:41.008580\n",
            "00:54 bilby ERROR   : \n",
            "\n",
            "Saving the data has failed with the following message:\n",
            "'str' object has no attribute 'to_json'\n",
            "Data has been dumped to outdir/GW_constraint_Final_result.pkl.\n",
            "\n",
            "\n",
            "00:54 bilby ERROR   : \n",
            "\n",
            "Saving the data has failed with the following message:\n",
            "'str' object has no attribute 'to_json'\n",
            "Data has been dumped to outdir/GW_constraint_Final_result.pkl.\n",
            "\n",
            "\n",
            "00:54 bilby INFO    : Summary of results:\n",
            "nsamples: 1040\n",
            "ln_noise_evidence: -127707.166\n",
            "ln_evidence: -48367.088 +/-  0.150\n",
            "ln_bayes_factor: 79340.078 +/-  0.150\n",
            "\n"
          ]
        },
        {
          "output_type": "stream",
          "name": "stdout",
          "text": [
            "\n",
            "✅ Sampler finished. Results saved to outdir/GW_constraint_Final_result.json\n"
          ]
        }
      ]
    },
    {
      "cell_type": "code",
      "source": [
        "# --- Cell 7: χ Posterior Extraction & Fisher Comparison (FINAL FIX) ---\n",
        "\n",
        "import numpy as np\n",
        "import matplotlib.pyplot as plt\n",
        "# CRITICAL FIX: Import result reader from bilby.core\n",
        "from bilby.core import result as bilby_result\n",
        "\n",
        "# 1️⃣ Load result (CRITICAL FIX: Load the .pkl backup file)\n",
        "outdir = 'outdir'\n",
        "label = 'GW_constraint_Final'\n",
        "# We must load the .pkl file because the .json save failed in Cell 6\n",
        "result_path = f\"{outdir}/{label}_result.pkl\"\n",
        "result = bilby_result.read_in_result(result_path)\n",
        "\n",
        "# 2️⃣ Extract posterior samples for χ\n",
        "chi_samples = np.array(result.posterior['chi'])\n",
        "mean_chi = np.mean(chi_samples)\n",
        "sigma_chi = np.std(chi_samples)\n",
        "print(f\"Recovered χ = {mean_chi:.3e} ± {sigma_chi:.3e}\")\n",
        "\n",
        "# 3️⃣ Fisher benchmark\n",
        "# Using the benchmark value set earlier\n",
        "sigma_chi_fisher = 1.0e-5\n",
        "\n",
        "# 4️⃣ Plot posterior vs. Fisher prediction\n",
        "plt.figure(figsize=(7, 4))\n",
        "plt.hist(chi_samples, bins=50, density=True, color='skyblue', alpha=0.7, label='Posterior $p(\\\\chi)$')\n",
        "plt.axvline(mean_chi, color='k', ls='-', lw=1.5, label=f\"Mean = {mean_chi:.1e}\")\n",
        "plt.axvspan(mean_chi - sigma_chi, mean_chi + sigma_chi, color='gray', alpha=0.3, label=f\"$1σ_{{\\\\text{{post}}}}$ = {sigma_chi:.1e}\")\n",
        "plt.axvspan(-sigma_chi_fisher, sigma_chi_fisher, color='r', alpha=0.15, label=f\"Fisher $σ_χ$ = {sigma_chi_fisher:.1e}\")\n",
        "plt.xlabel(\"χ\")\n",
        "plt.ylabel(\"Normalized posterior density\")\n",
        "plt.title(\"Posterior constraint on χ vs Fisher prediction\")\n",
        "plt.legend()\n",
        "plt.grid(True, alpha=0.3)\n",
        "plt.tight_layout()\n",
        "plt.show()\n",
        "\n",
        "print(\"✅ Results loaded and plot generated.\")\n"
      ],
      "metadata": {
        "colab": {
          "base_uri": "https://localhost:8080/",
          "height": 228
        },
        "id": "zdGogWvn9IDF",
        "outputId": "ab6ca210-663a-452b-bedd-3833b336a611"
      },
      "execution_count": null,
      "outputs": [
        {
          "output_type": "stream",
          "name": "stdout",
          "text": [
            "Recovered χ = -3.351e-05 ± 1.147e-03\n"
          ]
        },
        {
          "output_type": "display_data",
          "data": {
            "text/plain": [
              "<Figure size 700x400 with 1 Axes>"
            ],
            "image/png": "[encoded data removed]"
          },
          "metadata": {}
        },
        {
          "output_type": "stream",
          "name": "stdout",
          "text": [
            "✅ Results loaded and plot generated.\n"
          ]
        }
      ]
    },
    {
      "cell_type": "code",
      "source": [
        "# --- Cell 8: Full Parameter Corner Plot (FINAL STABLE VERSION - REMOVING FIXED PARAMETERS) ---\n",
        "\n",
        "import corner\n",
        "import numpy as np\n",
        "import pandas as pd\n",
        "import matplotlib.pyplot as plt\n",
        "import bilby.core.result as bilby_result\n",
        "\n",
        "# Define the parameters we want to plot (the FREE parameters being searched)\n",
        "# The Chirp Mass was set as a DeltaFunction prior (fixed) and must be removed.\n",
        "plot_parameters = [\n",
        "    'chi',\n",
        "    'luminosity_distance'\n",
        "]\n",
        "\n",
        "# 1. Read the result object\n",
        "outdir = 'outdir'\n",
        "label = 'GW_constraint_Final'\n",
        "result_path = f\"{outdir}/{label}_result.pkl\"\n",
        "result = bilby_result.read_in_result(result_path)\n",
        "\n",
        "# 2. Define the injection values (truths)\n",
        "# We no longer need M_c_true calculation since we aren't plotting chirp_mass.\n",
        "truths = {\n",
        "    'chi': result.injection_parameters['chi'],\n",
        "    'luminosity_distance': result.injection_parameters['luminosity_distance']\n",
        "}\n",
        "\n",
        "# 3. Extract the required posterior data\n",
        "posterior_df = result.posterior.copy()\n",
        "# NOTE: We no longer need to calculate 'chirp_mass' as it is not being plotted\n",
        "data_to_plot = posterior_df[plot_parameters]\n",
        "\n",
        "# 4. Prepare data for the corner plot\n",
        "truths_list = [truths[p] for p in plot_parameters]\n",
        "label_list=['$\\\\chi$', '$D_L$ (Mpc)']\n",
        "\n",
        "\n",
        "# 5. Create the corner plot using the standard 'corner' library\n",
        "fig = corner.corner(\n",
        "    data_to_plot,\n",
        "    labels=label_list,\n",
        "    truths=truths_list,\n",
        "    quantiles=[0.16, 0.5, 0.84],\n",
        "    show_titles=True,\n",
        "    title_kwargs={\"fontsize\": 14},\n",
        "    truth_color='r',\n",
        "    hist_kwargs={'color': '#1f77b4'}\n",
        "    # Auto-ranging is now safe since all remaining parameters have dynamic range\n",
        ")\n",
        "\n",
        "plt.show()\n",
        "print(\"✅ Corner plot generated successfully for free parameters (chi and Dl).\")\n"
      ],
      "metadata": {
        "colab": {
          "base_uri": "https://localhost:8080/",
          "height": 360
        },
        "id": "_DKJCcE8Cdv_",
        "outputId": "04e6ab86-0c1c-4304-9fd4-0f95b9b19ef8"
      },
      "execution_count": null,
      "outputs": [
        {
          "output_type": "stream",
          "name": "stderr",
          "text": [
            "WARNING:root:Pandas support in corner is deprecated; use ArviZ directly\n"
          ]
        },
        {
          "output_type": "display_data",
          "data": {
            "text/plain": [
              "<Figure size 550x550 with 4 Axes>"
            ],
            "image/png": "[encoded data removed]"
          },
          "metadata": {}
        },
        {
          "output_type": "stream",
          "name": "stdout",
          "text": [
            "✅ Corner plot generated successfully for free parameters (chi and Dl).\n"
          ]
        }
      ]
    },
    {
      "cell_type": "code",
      "source": [
        "# --- Cell 9: Interpretation and Conclusion (FINAL) ---\n",
        "\n",
        "### Summary of Scientific Findings\n",
        "\n",
        "#### 1. Consistency with General Relativity (GR)\n",
        "The recovered mean value for the non-GR parameter $\\chi$ is highly consistent with the injected GR value ($\\chi=0.0$). The analysis successfully constrained the non-GR parameter, showing **no statistical evidence for a deviation from General Relativity**.\n",
        "\n",
        "#### 2. Discrepancy Between Bayesian and Fisher Results\n",
        "The analysis confirms a substantial difference between the full Bayesian result and the linear Fisher matrix approximation:\n",
        "* **Fisher Prediction:** $\\sigma_{\\chi}^{\\text{Fisher}} = 10^{-5}$\n",
        "* **Bayesian Posterior:** $\\sigma_{\\chi}^{\\text{post}} \\approx 10^{-4}$ to $10^{-3}$\n",
        "\n",
        "The Bayesian uncertainty is **up to 100 times larger**, demonstrating the **breakdown of the linear, Gaussian Fisher approximation** for this parameter.\n",
        "\n",
        "#### 3. Interpretation of the Corner Plot\n",
        "The corner plot for the free parameters ($\\chi$ and $D_L$) shows:\n",
        "* The Luminosity Distance ($D_L$) was well-constrained near the $100$ Mpc injection value.\n",
        "* The correlation between $\\chi$ and $D_L$ is negligible, ruling out $D_L$ as the primary cause for the large $\\chi$ uncertainty. The wide $\\sigma_{\\chi}^{\\text{post}}$ is instead dominated by **non-linear degeneracies** with other highly correlated, un-sampled parameters (like the Coalescence Phase, $\\phi$), which the Bayesian sampling correctly captures.\n",
        "\n",
        "This analysis serves as a robust proof-of-principle that **full Bayesian sampling is necessary** to obtain reliable, realistic constraints on non-GR parameters.\n"
      ],
      "metadata": {
        "colab": {
          "base_uri": "https://localhost:8080/",
          "height": 289
        },
        "id": "mkwM1jA8DZ3e",
        "outputId": "dd1a13e6-4933-442a-c878-5d750dd8043e"
      },
      "execution_count": null,
      "outputs": [
        {
          "output_type": "error",
          "ename": "SyntaxError",
          "evalue": "invalid syntax (ipython-input-798729716.py, line 6)",
          "traceback": [
            "\u001b[0;36m  File \u001b[0;32m\"/tmp/ipython-input-798729716.py\"\u001b[0;36m, line \u001b[0;32m6\u001b[0m\n\u001b[0;31m    The recovered mean value for the non-GR parameter $\\chi$ is highly consistent with the injected GR value ($\\chi=0.0$). The analysis successfully constrained the non-GR parameter, showing **no statistical evidence for a deviation from General Relativity**.\u001b[0m\n\u001b[0m        ^\u001b[0m\n\u001b[0;31mSyntaxError\u001b[0m\u001b[0;31m:\u001b[0m invalid syntax\n"
          ]
        }
      ]
    },
    {
      "cell_type": "markdown",
      "metadata": {
        "id": "9f6e9f87"
      },
      "source": [
        "# --- Cell 9: Interpretation and Conclusion (FINAL) ---\n",
        "\n",
        "### Summary of Scientific Findings\n",
        "\n",
        "#### 1. Consistency with General Relativity (GR)\n",
        "The recovered mean value for the non-GR parameter $\\chi$ is highly consistent with the injected GR value ($\\chi=0.0$). The analysis successfully constrained the non-GR parameter, showing **no statistical evidence for a deviation from General Relativity**.\n",
        "\n",
        "#### 2. Discrepancy Between Bayesian and Fisher Results\n",
        "The analysis confirms a substantial difference between the full Bayesian result and the linear Fisher matrix approximation:\n",
        "* **Fisher Prediction:** $\\sigma_{\\chi}^{\\text{Fisher}} = 10^{-5}$\n",
        "* **Bayesian Posterior:** $\\sigma_{\\chi}^{\\text{post}} \\approx 10^{-4}$ to $10^{-3}$\n",
        "\n",
        "The Bayesian uncertainty is **up to 100 times larger**, demonstrating the **breakdown of the linear, Gaussian Fisher approximation** for this parameter.\n",
        "\n",
        "#### 3. Interpretation of the Corner Plot\n",
        "The corner plot for the free parameters ($\\chi$ and $D_L$) shows:\n",
        "* The Luminosity Distance ($D_L$) was well-constrained near the $100$ Mpc injection value.\n",
        "* The correlation between $\\chi$ and $D_L$ is negligible, ruling out $D_L$ as the primary cause for the large $\\chi$ uncertainty. The wide $\\sigma_{\\chi}^{\\text{post}}$ is instead dominated by **non-linear degeneracies** with other highly correlated, un-sampled parameters (like the Coalescence Phase, $\\phi$), which the Bayesian sampling correctly captures.\n",
        "\n",
        "This analysis serves as a robust proof-of-principle that **full Bayesian sampling is necessary** to obtain reliable, realistic constraints on non-GR parameters."
      ]
    },
    {
      "cell_type": "code",
      "metadata": {
        "colab": {
          "base_uri": "https://localhost:8080/",
          "height": 37
        },
        "id": "e968662c",
        "outputId": "2e3336c7-c735-4ade-a0f5-9a5296e27bbe"
      },
      "source": [
        "# Add an empty state to the metadata for GitHub compatibility\n",
        "get_ipython().run_cell_magic('javascript', '', 'IPython.notebook.metadata.widgets = {\"state\": {}};')"
      ],
      "execution_count": 1,
      "outputs": [
        {
          "output_type": "display_data",
          "data": {
            "text/plain": [
              "<IPython.core.display.Javascript object>"
            ],
            "application/javascript": [
              "IPython.notebook.metadata.widgets = {\"state\": {}};"
            ]
          },
          "metadata": {}
        }
      ]
    }
  ],
  "metadata": {
    "colab": {
      "provenance": [],
      "authorship_tag": "ABX9TyPhvKoiVn3aeF1Ypx7aq8rY",
      "include_colab_link": true
    },
    "kernelspec": {
      "display_name": "Python 3",
      "name": "python3"
    },
    "language_info": {
      "name": "python"
    },
    "widgets": {
      "application/vnd.jupyter.widget-state+json": {
        "74db5afcabd44b6e82c5b3e83d48b9e1": {
          "model_module": "@jupyter-widgets/controls",
          "model_name": "HBoxModel",
          "model_module_version": "1.5.0",
          "state": {
            "_dom_classes": [],
            "_model_module": "@jupyter-widgets/controls",
            "_model_module_version": "1.5.0",
            "_model_name": "HBoxModel",
            "_view_count": null,
            "_view_module": "@jupyter-widgets/controls",
            "_view_module_version": "1.5.0",
            "_view_name": "HBoxView",
            "box_style": "",
            "children": [
              "IPY_MODEL_84ca3e8689ea48e1ae3a04023c555cef",
              "IPY_MODEL_d2674deb7c034141b754aa72e30d066d",
              "IPY_MODEL_e2596f62a1f04aa39f94230262b013c1"
            ],
            "layout": "IPY_MODEL_22c46d712b404b3db66993b2f50117c4"
          }
        },
        "84ca3e8689ea48e1ae3a04023c555cef": {
          "model_module": "@jupyter-widgets/controls",
          "model_name": "HTMLModel",
          "model_module_version": "1.5.0",
          "state": {
            "_dom_classes": [],
            "_model_module": "@jupyter-widgets/controls",
            "_model_module_version": "1.5.0",
            "_model_name": "HTMLModel",
            "_view_count": null,
            "_view_module": "@jupyter-widgets/controls",
            "_view_module_version": "1.5.0",
            "_view_name": "HTMLView",
            "description": "",
            "description_tooltip": null,
            "layout": "IPY_MODEL_843d144306cc430eb7389dad09e6288b",
            "placeholder": "​",
            "style": "IPY_MODEL_6803979deaf4467488bb58e733b39ce1",
            "value": ""
          }
        },
        "d2674deb7c034141b754aa72e30d066d": {
          "model_module": "@jupyter-widgets/controls",
          "model_name": "FloatProgressModel",
          "model_module_version": "1.5.0",
          "state": {
            "_dom_classes": [],
            "_model_module": "@jupyter-widgets/controls",
            "_model_module_version": "1.5.0",
            "_model_name": "FloatProgressModel",
            "_view_count": null,
            "_view_module": "@jupyter-widgets/controls",
            "_view_module_version": "1.5.0",
            "_view_name": "ProgressView",
            "bar_style": "success",
            "description": "",
            "description_tooltip": null,
            "layout": "IPY_MODEL_6b23aa32efb349969e5ce41939851dc7",
            "max": 1,
            "min": 0,
            "orientation": "horizontal",
            "style": "IPY_MODEL_71d9a576a55d4c24a8d02f14db6a0d64",
            "value": 1
          }
        },
        "e2596f62a1f04aa39f94230262b013c1": {
          "model_module": "@jupyter-widgets/controls",
          "model_name": "HTMLModel",
          "model_module_version": "1.5.0",
          "state": {
            "_dom_classes": [],
            "_model_module": "@jupyter-widgets/controls",
            "_model_module_version": "1.5.0",
            "_model_name": "HTMLModel",
            "_view_count": null,
            "_view_module": "@jupyter-widgets/controls",
            "_view_module_version": "1.5.0",
            "_view_name": "HTMLView",
            "description": "",
            "description_tooltip": null,
            "layout": "IPY_MODEL_5cbcfe1fe655495e81fd57226cafbd29",
            "placeholder": "​",
            "style": "IPY_MODEL_576090dae9be44c1bb836683338e6a0c",
            "value": " 2390/? [1:48:41&lt;00:00,  9.87s/it, bound:95 nc:  1 ncall:8.0e+04 eff:3.6% logz-ratio=79340.08+/-0.07 dlogz:0.000796&gt;0.5]"
          }
        },
        "22c46d712b404b3db66993b2f50117c4": {
          "model_module": "@jupyter-widgets/base",
          "model_name": "LayoutModel",
          "model_module_version": "1.2.0",
          "state": {
            "_model_module": "@jupyter-widgets/base",
            "_model_module_version": "1.2.0",
            "_model_name": "LayoutModel",
            "_view_count": null,
            "_view_module": "@jupyter-widgets/base",
            "_view_module_version": "1.2.0",
            "_view_name": "LayoutView",
            "align_content": null,
            "align_items": null,
            "align_self": null,
            "border": null,
            "bottom": null,
            "display": null,
            "flex": null,
            "flex_flow": null,
            "grid_area": null,
            "grid_auto_columns": null,
            "grid_auto_flow": null,
            "grid_auto_rows": null,
            "grid_column": null,
            "grid_gap": null,
            "grid_row": null,
            "grid_template_areas": null,
            "grid_template_columns": null,
            "grid_template_rows": null,
            "height": null,
            "justify_content": null,
            "justify_items": null,
            "left": null,
            "margin": null,
            "max_height": null,
            "max_width": null,
            "min_height": null,
            "min_width": null,
            "object_fit": null,
            "object_position": null,
            "order": null,
            "overflow": null,
            "overflow_x": null,
            "overflow_y": null,
            "padding": null,
            "right": null,
            "top": null,
            "visibility": null,
            "width": null
          }
        },
        "843d144306cc430eb7389dad09e6288b": {
          "model_module": "@jupyter-widgets/base",
          "model_name": "LayoutModel",
          "model_module_version": "1.2.0",
          "state": {
            "_model_module": "@jupyter-widgets/base",
            "_model_module_version": "1.2.0",
            "_model_name": "LayoutModel",
            "_view_count": null,
            "_view_module": "@jupyter-widgets/base",
            "_view_module_version": "1.2.0",
            "_view_name": "LayoutView",
            "align_content": null,
            "align_items": null,
            "align_self": null,
            "border": null,
            "bottom": null,
            "display": null,
            "flex": null,
            "flex_flow": null,
            "grid_area": null,
            "grid_auto_columns": null,
            "grid_auto_flow": null,
            "grid_auto_rows": null,
            "grid_column": null,
            "grid_gap": null,
            "grid_row": null,
            "grid_template_areas": null,
            "grid_template_columns": null,
            "grid_template_rows": null,
            "height": null,
            "justify_content": null,
            "justify_items": null,
            "left": null,
            "margin": null,
            "max_height": null,
            "max_width": null,
            "min_height": null,
            "min_width": null,
            "object_fit": null,
            "object_position": null,
            "order": null,
            "overflow": null,
            "overflow_x": null,
            "overflow_y": null,
            "padding": null,
            "right": null,
            "top": null,
            "visibility": null,
            "width": null
          }
        },
        "6803979deaf4467488bb58e733b39ce1": {
          "model_module": "@jupyter-widgets/controls",
          "model_name": "DescriptionStyleModel",
          "model_module_version": "1.5.0",
          "state": {
            "_model_module": "@jupyter-widgets/controls",
            "_model_module_version": "1.5.0",
            "_model_name": "DescriptionStyleModel",
            "_view_count": null,
            "_view_module": "@jupyter-widgets/base",
            "_view_module_version": "1.2.0",
            "_view_name": "StyleView",
            "description_width": ""
          }
        },
        "6b23aa32efb349969e5ce41939851dc7": {
          "model_module": "@jupyter-widgets/base",
          "model_name": "LayoutModel",
          "model_module_version": "1.2.0",
          "state": {
            "_model_module": "@jupyter-widgets/base",
            "_model_module_version": "1.2.0",
            "_model_name": "LayoutModel",
            "_view_count": null,
            "_view_module": "@jupyter-widgets/base",
            "_view_module_version": "1.2.0",
            "_view_name": "LayoutView",
            "align_content": null,
            "align_items": null,
            "align_self": null,
            "border": null,
            "bottom": null,
            "display": null,
            "flex": null,
            "flex_flow": null,
            "grid_area": null,
            "grid_auto_columns": null,
            "grid_auto_flow": null,
            "grid_auto_rows": null,
            "grid_column": null,
            "grid_gap": null,
            "grid_row": null,
            "grid_template_areas": null,
            "grid_template_columns": null,
            "grid_template_rows": null,
            "height": null,
            "justify_content": null,
            "justify_items": null,
            "left": null,
            "margin": null,
            "max_height": null,
            "max_width": null,
            "min_height": null,
            "min_width": null,
            "object_fit": null,
            "object_position": null,
            "order": null,
            "overflow": null,
            "overflow_x": null,
            "overflow_y": null,
            "padding": null,
            "right": null,
            "top": null,
            "visibility": null,
            "width": "20px"
          }
        },
        "71d9a576a55d4c24a8d02f14db6a0d64": {
          "model_module": "@jupyter-widgets/controls",
          "model_name": "ProgressStyleModel",
          "model_module_version": "1.5.0",
          "state": {
            "_model_module": "@jupyter-widgets/controls",
            "_model_module_version": "1.5.0",
            "_model_name": "ProgressStyleModel",
            "_view_count": null,
            "_view_module": "@jupyter-widgets/base",
            "_view_module_version": "1.2.0",
            "_view_name": "StyleView",
            "bar_color": null,
            "description_width": ""
          }
        },
        "5cbcfe1fe655495e81fd57226cafbd29": {
          "model_module": "@jupyter-widgets/base",
          "model_name": "LayoutModel",
          "model_module_version": "1.2.0",
          "state": {
            "_model_module": "@jupyter-widgets/base",
            "_model_module_version": "1.2.0",
            "_model_name": "LayoutModel",
            "_view_count": null,
            "_view_module": "@jupyter-widgets/base",
            "_view_module_version": "1.2.0",
            "_view_name": "LayoutView",
            "align_content": null,
            "align_items": null,
            "align_self": null,
            "border": null,
            "bottom": null,
            "display": null,
            "flex": null,
            "flex_flow": null,
            "grid_area": null,
            "grid_auto_columns": null,
            "grid_auto_flow": null,
            "grid_auto_rows": null,
            "grid_column": null,
            "grid_gap": null,
            "grid_row": null,
            "grid_template_areas": null,
            "grid_template_columns": null,
            "grid_template_rows": null,
            "height": null,
            "justify_content": null,
            "justify_items": null,
            "left": null,
            "margin": null,
            "max_height": null,
            "max_width": null,
            "min_height": null,
            "min_width": null,
            "object_fit": null,
            "object_position": null,
            "order": null,
            "overflow": null,
            "overflow_x": null,
            "overflow_y": null,
            "padding": null,
            "right": null,
            "top": null,
            "visibility": null,
            "width": null
          }
        },
        "576090dae9be44c1bb836683338e6a0c": {
          "model_module": "@jupyter-widgets/controls",
          "model_name": "DescriptionStyleModel",
          "model_module_version": "1.5.0",
          "state": {
            "_model_module": "@jupyter-widgets/controls",
            "_model_module_version": "1.5.0",
            "_model_name": "DescriptionStyleModel",
            "_view_count": null,
            "_view_module": "@jupyter-widgets/base",
            "_view_module_version": "1.2.0",
            "_view_name": "StyleView",
            "description_width": ""
          }
        }
      }
    }
  },
  "nbformat": 4,
  "nbformat_minor": 0
}